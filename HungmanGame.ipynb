{
  "nbformat": 4,
  "nbformat_minor": 0,
  "metadata": {
    "colab": {
      "provenance": [],
      "authorship_tag": "ABX9TyNtzYouAKE+PuSgf8R5I8wr",
      "include_colab_link": true
    },
    "kernelspec": {
      "name": "python3",
      "display_name": "Python 3"
    },
    "language_info": {
      "name": "python"
    }
  },
  "cells": [
    {
      "cell_type": "markdown",
      "metadata": {
        "id": "view-in-github",
        "colab_type": "text"
      },
      "source": [
        "<a href=\"https://colab.research.google.com/github/C-Ravi-Shankar/HungmanGame/blob/main/HungmanGame.ipynb\" target=\"_parent\"><img src=\"https://colab.research.google.com/assets/colab-badge.svg\" alt=\"Open In Colab\"/></a>"
      ]
    },
    {
      "cell_type": "code",
      "source": [
        "#Hangman Game\n",
        "import random\n",
        "print(\"Welcome to Hangman!!!\")\n",
        "name = input(\"Register with your name: \")\n",
        "print (\"Hello, \" + name, \"Start  playing hangman..!\")\n",
        "print (\"Start guessing...\")\n",
        "words = [\"dark\",\"ferrari\",\"biryani\",\"rain\",\"premium\",\"wheel\",\"beach\",\"music\",\"journey\",\"garden\",\"gift\",\"drink\",\"truck\"]\n",
        "word = random.choice(words)\n",
        "guesses = ''\n",
        "turns = 10\n",
        "while turns > 0:\n",
        "    failed = 0\n",
        "    for char in word:\n",
        "        if char in guesses:\n",
        "            print (char,end=\"\")\n",
        "        else:\n",
        "            print (\"_\",end=\"\")\n",
        "            failed += 1\n",
        "    if failed == 0:\n",
        "        print (\" \\n Victory... :)\")\n",
        "        break\n",
        "    guess = input(\"\\n guess a character:\")\n",
        "    guesses += guess\n",
        "    if guess not in word:\n",
        "        turns -= 1\n",
        "        print (\" Wrong\")\n",
        "        print (\"You have\", + turns, 'more guesses' )\n",
        "        if turns == 0:\n",
        "            print(\" You Lose :(\"  )\n",
        "\n",
        "            print(\"Answer is \",word)\n",
        "            print(\"Play again...! \")"
      ],
      "metadata": {
        "colab": {
          "base_uri": "https://localhost:8080/"
        },
        "id": "GG2mHqMtG3mj",
        "outputId": "4131d061-5b85-4d70-ceff-6fdd17895863"
      },
      "execution_count": 1,
      "outputs": [
        {
          "output_type": "stream",
          "name": "stdout",
          "text": [
            "Welcome to Hangman!!!\n",
            "Register with your name: R\n",
            "Hello, R Start  playing hangman..!\n",
            "Start guessing...\n",
            "____\n",
            " guess a character:F\n",
            " Wrong\n",
            "You have 9 more guesses\n",
            "____\n",
            " guess a character:C\n",
            " Wrong\n",
            "You have 8 more guesses\n",
            "____\n",
            " guess a character:A\n",
            " Wrong\n",
            "You have 7 more guesses\n",
            "____\n",
            " guess a character:i\n",
            "__i_\n",
            " guess a character:u\n",
            " Wrong\n",
            "You have 6 more guesses\n",
            "__i_\n",
            " guess a character:m\n",
            " Wrong\n",
            "You have 5 more guesses\n",
            "__i_\n",
            " guess a character:r\n",
            "r_i_\n",
            " guess a character:a\n",
            "rai_\n",
            " guess a character:n\n",
            "rain \n",
            " Victory... :)\n"
          ]
        }
      ]
    }
  ]
}